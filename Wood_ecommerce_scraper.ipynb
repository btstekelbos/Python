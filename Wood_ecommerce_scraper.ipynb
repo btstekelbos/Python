{
 "cells": [
  {
   "cell_type": "markdown",
   "metadata": {},
   "source": [
    "# import all dependencies\n",
    "\n"
   ]
  },
  {
   "cell_type": "code",
   "execution_count": 1,
   "metadata": {},
   "outputs": [],
   "source": [
    "import pandas as pd\n",
    "import re\n",
    "import requests\n",
    "from bs4 import BeautifulSoup\n",
    "\n",
    "headers = {\n",
    "    \"User-Agent\" : \"Mozilla/5.0 (Macintosh; Intel Mac OS X 10_15_7) AppleWebKit/605.1.15 (KHTML, like Gecko) Version/15.3 Safari/605.1.15\"\n",
    "}"
   ]
  },
  {
   "cell_type": "markdown",
   "metadata": {},
   "source": [
    "# Website Scraper\n"
   ]
  },
  {
   "cell_type": "markdown",
   "metadata": {},
   "source": [
    "## HoutDirect"
   ]
  },
  {
   "cell_type": "code",
   "execution_count": 2,
   "metadata": {},
   "outputs": [],
   "source": [
    "length_list =[]\n",
    "Thickness_list =  []\n",
    "Width_list = []\n",
    "Price_list = []\n",
    "Url_list = []\n",
    "Category_list = []\n",
    "Type_list = []\n",
    "\n",
    "# Loop over every page\n",
    "\n",
    "for page in range(1,4):\n",
    "    Link  = f\"https://www.houtdirect.nl/hout-tuinhout/vurenhout/vuren-balken?page={page}\"\n",
    "\n",
    "    # Gathers information from the webpage\n",
    "    r = requests.get(Link, headers=headers)\n",
    "    soup  = BeautifulSoup(r.content, \"lxml\")\n",
    "\n",
    "    # Creates a beautifulsoup object \n",
    "    productlist  = soup.find_all(\"div\", class_ = \"group-product\")     \n",
    "\n",
    "    for item in productlist:\n",
    "\n",
    "        # Finds the lenght of the object\n",
    "        length_list.append(item.find(\"span\", class_  = \"product-property-label\").text)\n",
    "        \n",
    "        # Takes a full description, cleans all characters from it and then indexes to find Thickness and Width\n",
    "        description  = item[\"data-gtm-name\"]\n",
    "        description = re.sub(\"[^0-9]\", \"\", description)\n",
    "\n",
    "        Thickness_list.append(description[0:2])\n",
    "        Width_list.append(description[2:5])\n",
    "\n",
    "\n",
    "        # Finds, cleans and inputs the price in a list\n",
    "        price = item['data-gtm-price'].replace(\",\",\".\")\n",
    "        price = float(price)\n",
    "        Price_list.append(price)\n",
    "\n",
    "        # Finds the url and appends it to the url list\n",
    "        Url_list.append(item.find('a')['href'])\n",
    "\n",
    "        Category_list.append(\"Balken\")\n",
    "        Type_list.append(\"Geschaafd\")\n",
    "\n",
    "# Creates a dictionairy to make key value pairs with the list objects\n",
    "products_information = {\n",
    "    'Length' : length_list,\n",
    "    'Thickness': Thickness_list,\n",
    "    \"Width\": Width_list,\n",
    "    'Price': Price_list,\n",
    "    'Url': Url_list,\n",
    "    \"Category\" :Category_list,\n",
    "    \"Type\" : Type_list\n",
    "}\n",
    "\n",
    "# Creates a dataframe out of the dictionairy\n",
    "df = pd.DataFrame(products_information)\n",
    "df.to_excel(\"HoutDirect_information.xlsx\")\n"
   ]
  }
 ],
 "metadata": {
  "interpreter": {
   "hash": "daeac6d63815b337cdbc63cd820bf487f6113d664477cbf77ebc43f6393e9675"
  },
  "kernelspec": {
   "display_name": "Python 3.10.4 ('.env': venv)",
   "language": "python",
   "name": "python3"
  },
  "language_info": {
   "codemirror_mode": {
    "name": "ipython",
    "version": 3
   },
   "file_extension": ".py",
   "mimetype": "text/x-python",
   "name": "python",
   "nbconvert_exporter": "python",
   "pygments_lexer": "ipython3",
   "version": "3.10.4"
  },
  "orig_nbformat": 4
 },
 "nbformat": 4,
 "nbformat_minor": 2
}
